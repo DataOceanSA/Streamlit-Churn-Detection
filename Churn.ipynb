{
  "cells": [
    {
      "cell_type": "code",
      "execution_count": 1,
      "metadata": {
        "colab": {
          "base_uri": "https://localhost:8080/"
        },
        "id": "uyXYPbNZ693q",
        "outputId": "a5efe82a-af19-400b-db4f-ce0197704b40"
      },
      "outputs": [
        {
          "name": "stdout",
          "output_type": "stream",
          "text": [
            "Drive already mounted at /content/drive; to attempt to forcibly remount, call drive.mount(\"/content/drive\", force_remount=True).\n"
          ]
        }
      ],
      "source": [
        "#from google.colab import drive\n",
        "#drive.mount('/content/drive')"
      ]
    },
    {
      "cell_type": "code",
      "execution_count": 1,
      "metadata": {
        "id": "ZFsDzufaFZgh"
      },
      "outputs": [],
      "source": [
        "import pandas as pd\n",
        "df=pd.read_csv(\"Expresso_churn_dataset.csv\")"
      ]
    },
    {
      "cell_type": "code",
      "execution_count": 2,
      "metadata": {
        "colab": {
          "base_uri": "https://localhost:8080/",
          "height": 313
        },
        "id": "dFND77zbGwqV",
        "outputId": "ab303d46-42db-48d6-a77f-07ca4571c4ec"
      },
      "outputs": [
        {
          "data": {
            "text/html": [
              "<div>\n",
              "<style scoped>\n",
              "    .dataframe tbody tr th:only-of-type {\n",
              "        vertical-align: middle;\n",
              "    }\n",
              "\n",
              "    .dataframe tbody tr th {\n",
              "        vertical-align: top;\n",
              "    }\n",
              "\n",
              "    .dataframe thead th {\n",
              "        text-align: right;\n",
              "    }\n",
              "</style>\n",
              "<table border=\"1\" class=\"dataframe\">\n",
              "  <thead>\n",
              "    <tr style=\"text-align: right;\">\n",
              "      <th></th>\n",
              "      <th>user_id</th>\n",
              "      <th>REGION</th>\n",
              "      <th>TENURE</th>\n",
              "      <th>MONTANT</th>\n",
              "      <th>FREQUENCE_RECH</th>\n",
              "      <th>REVENUE</th>\n",
              "      <th>ARPU_SEGMENT</th>\n",
              "      <th>FREQUENCE</th>\n",
              "      <th>DATA_VOLUME</th>\n",
              "      <th>ON_NET</th>\n",
              "      <th>ORANGE</th>\n",
              "      <th>TIGO</th>\n",
              "      <th>ZONE1</th>\n",
              "      <th>ZONE2</th>\n",
              "      <th>MRG</th>\n",
              "      <th>REGULARITY</th>\n",
              "      <th>TOP_PACK</th>\n",
              "      <th>FREQ_TOP_PACK</th>\n",
              "      <th>CHURN</th>\n",
              "    </tr>\n",
              "  </thead>\n",
              "  <tbody>\n",
              "    <tr>\n",
              "      <th>0</th>\n",
              "      <td>00000bfd7d50f01092811bc0c8d7b0d6fe7c3596</td>\n",
              "      <td>FATICK</td>\n",
              "      <td>K &gt; 24 month</td>\n",
              "      <td>4250.0</td>\n",
              "      <td>15.0</td>\n",
              "      <td>4251.0</td>\n",
              "      <td>1417.0</td>\n",
              "      <td>17.0</td>\n",
              "      <td>4.0</td>\n",
              "      <td>388.0</td>\n",
              "      <td>46.0</td>\n",
              "      <td>1.0</td>\n",
              "      <td>1.0</td>\n",
              "      <td>2.0</td>\n",
              "      <td>NO</td>\n",
              "      <td>54</td>\n",
              "      <td>On net 200F=Unlimited _call24H</td>\n",
              "      <td>8.0</td>\n",
              "      <td>0</td>\n",
              "    </tr>\n",
              "    <tr>\n",
              "      <th>1</th>\n",
              "      <td>00000cb4a5d760de88fecb38e2f71b7bec52e834</td>\n",
              "      <td>NaN</td>\n",
              "      <td>I 18-21 month</td>\n",
              "      <td>NaN</td>\n",
              "      <td>NaN</td>\n",
              "      <td>NaN</td>\n",
              "      <td>NaN</td>\n",
              "      <td>NaN</td>\n",
              "      <td>NaN</td>\n",
              "      <td>NaN</td>\n",
              "      <td>NaN</td>\n",
              "      <td>NaN</td>\n",
              "      <td>NaN</td>\n",
              "      <td>NaN</td>\n",
              "      <td>NO</td>\n",
              "      <td>4</td>\n",
              "      <td>NaN</td>\n",
              "      <td>NaN</td>\n",
              "      <td>1</td>\n",
              "    </tr>\n",
              "    <tr>\n",
              "      <th>2</th>\n",
              "      <td>00001654a9d9f96303d9969d0a4a851714a4bb57</td>\n",
              "      <td>NaN</td>\n",
              "      <td>K &gt; 24 month</td>\n",
              "      <td>3600.0</td>\n",
              "      <td>2.0</td>\n",
              "      <td>1020.0</td>\n",
              "      <td>340.0</td>\n",
              "      <td>2.0</td>\n",
              "      <td>NaN</td>\n",
              "      <td>90.0</td>\n",
              "      <td>46.0</td>\n",
              "      <td>7.0</td>\n",
              "      <td>NaN</td>\n",
              "      <td>NaN</td>\n",
              "      <td>NO</td>\n",
              "      <td>17</td>\n",
              "      <td>On-net 1000F=10MilF;10d</td>\n",
              "      <td>1.0</td>\n",
              "      <td>0</td>\n",
              "    </tr>\n",
              "    <tr>\n",
              "      <th>3</th>\n",
              "      <td>00001dd6fa45f7ba044bd5d84937be464ce78ac2</td>\n",
              "      <td>DAKAR</td>\n",
              "      <td>K &gt; 24 month</td>\n",
              "      <td>13500.0</td>\n",
              "      <td>15.0</td>\n",
              "      <td>13502.0</td>\n",
              "      <td>4501.0</td>\n",
              "      <td>18.0</td>\n",
              "      <td>43804.0</td>\n",
              "      <td>41.0</td>\n",
              "      <td>102.0</td>\n",
              "      <td>2.0</td>\n",
              "      <td>NaN</td>\n",
              "      <td>NaN</td>\n",
              "      <td>NO</td>\n",
              "      <td>62</td>\n",
              "      <td>Data:1000F=5GB,7d</td>\n",
              "      <td>11.0</td>\n",
              "      <td>0</td>\n",
              "    </tr>\n",
              "    <tr>\n",
              "      <th>4</th>\n",
              "      <td>000028d9e13a595abe061f9b58f3d76ab907850f</td>\n",
              "      <td>DAKAR</td>\n",
              "      <td>K &gt; 24 month</td>\n",
              "      <td>1000.0</td>\n",
              "      <td>1.0</td>\n",
              "      <td>985.0</td>\n",
              "      <td>328.0</td>\n",
              "      <td>1.0</td>\n",
              "      <td>NaN</td>\n",
              "      <td>39.0</td>\n",
              "      <td>24.0</td>\n",
              "      <td>NaN</td>\n",
              "      <td>NaN</td>\n",
              "      <td>NaN</td>\n",
              "      <td>NO</td>\n",
              "      <td>11</td>\n",
              "      <td>Mixt 250F=Unlimited_call24H</td>\n",
              "      <td>2.0</td>\n",
              "      <td>0</td>\n",
              "    </tr>\n",
              "  </tbody>\n",
              "</table>\n",
              "</div>"
            ],
            "text/plain": [
              "                                    user_id  REGION         TENURE  MONTANT  \\\n",
              "0  00000bfd7d50f01092811bc0c8d7b0d6fe7c3596  FATICK   K > 24 month   4250.0   \n",
              "1  00000cb4a5d760de88fecb38e2f71b7bec52e834     NaN  I 18-21 month      NaN   \n",
              "2  00001654a9d9f96303d9969d0a4a851714a4bb57     NaN   K > 24 month   3600.0   \n",
              "3  00001dd6fa45f7ba044bd5d84937be464ce78ac2   DAKAR   K > 24 month  13500.0   \n",
              "4  000028d9e13a595abe061f9b58f3d76ab907850f   DAKAR   K > 24 month   1000.0   \n",
              "\n",
              "   FREQUENCE_RECH  REVENUE  ARPU_SEGMENT  FREQUENCE  DATA_VOLUME  ON_NET  \\\n",
              "0            15.0   4251.0        1417.0       17.0          4.0   388.0   \n",
              "1             NaN      NaN           NaN        NaN          NaN     NaN   \n",
              "2             2.0   1020.0         340.0        2.0          NaN    90.0   \n",
              "3            15.0  13502.0        4501.0       18.0      43804.0    41.0   \n",
              "4             1.0    985.0         328.0        1.0          NaN    39.0   \n",
              "\n",
              "   ORANGE  TIGO  ZONE1  ZONE2 MRG  REGULARITY                        TOP_PACK  \\\n",
              "0    46.0   1.0    1.0    2.0  NO          54  On net 200F=Unlimited _call24H   \n",
              "1     NaN   NaN    NaN    NaN  NO           4                             NaN   \n",
              "2    46.0   7.0    NaN    NaN  NO          17         On-net 1000F=10MilF;10d   \n",
              "3   102.0   2.0    NaN    NaN  NO          62               Data:1000F=5GB,7d   \n",
              "4    24.0   NaN    NaN    NaN  NO          11     Mixt 250F=Unlimited_call24H   \n",
              "\n",
              "   FREQ_TOP_PACK  CHURN  \n",
              "0            8.0      0  \n",
              "1            NaN      1  \n",
              "2            1.0      0  \n",
              "3           11.0      0  \n",
              "4            2.0      0  "
            ]
          },
          "execution_count": 2,
          "metadata": {},
          "output_type": "execute_result"
        }
      ],
      "source": [
        "df.head()"
      ]
    },
    {
      "cell_type": "code",
      "execution_count": 3,
      "metadata": {
        "id": "R4wpaExZG1ky"
      },
      "outputs": [],
      "source": [
        "columns_to_drop = ['user_id','ZONE1','ZONE2','MRG']\n",
        "df = df.drop(columns_to_drop, axis=1)"
      ]
    },
    {
      "cell_type": "code",
      "execution_count": 4,
      "metadata": {
        "colab": {
          "base_uri": "https://localhost:8080/",
          "height": 617
        },
        "id": "5IPO9jVfIE56",
        "outputId": "f7e2bbbe-1548-4f85-b2de-47350584ed86"
      },
      "outputs": [
        {
          "data": {
            "text/html": [
              "<div>\n",
              "<style scoped>\n",
              "    .dataframe tbody tr th:only-of-type {\n",
              "        vertical-align: middle;\n",
              "    }\n",
              "\n",
              "    .dataframe tbody tr th {\n",
              "        vertical-align: top;\n",
              "    }\n",
              "\n",
              "    .dataframe thead th {\n",
              "        text-align: right;\n",
              "    }\n",
              "</style>\n",
              "<table border=\"1\" class=\"dataframe\">\n",
              "  <thead>\n",
              "    <tr style=\"text-align: right;\">\n",
              "      <th></th>\n",
              "      <th>REGION</th>\n",
              "      <th>TENURE</th>\n",
              "      <th>MONTANT</th>\n",
              "      <th>FREQUENCE_RECH</th>\n",
              "      <th>REVENUE</th>\n",
              "      <th>ARPU_SEGMENT</th>\n",
              "      <th>FREQUENCE</th>\n",
              "      <th>DATA_VOLUME</th>\n",
              "      <th>ON_NET</th>\n",
              "      <th>ORANGE</th>\n",
              "      <th>TIGO</th>\n",
              "      <th>REGULARITY</th>\n",
              "      <th>TOP_PACK</th>\n",
              "      <th>FREQ_TOP_PACK</th>\n",
              "      <th>CHURN</th>\n",
              "    </tr>\n",
              "  </thead>\n",
              "  <tbody>\n",
              "    <tr>\n",
              "      <th>0</th>\n",
              "      <td>FATICK</td>\n",
              "      <td>K &gt; 24 month</td>\n",
              "      <td>4250.0</td>\n",
              "      <td>15.0</td>\n",
              "      <td>4251.0</td>\n",
              "      <td>1417.0</td>\n",
              "      <td>17.0</td>\n",
              "      <td>4.0</td>\n",
              "      <td>388.0</td>\n",
              "      <td>46.0</td>\n",
              "      <td>1.0</td>\n",
              "      <td>54</td>\n",
              "      <td>On net 200F=Unlimited _call24H</td>\n",
              "      <td>8.0</td>\n",
              "      <td>0</td>\n",
              "    </tr>\n",
              "    <tr>\n",
              "      <th>1</th>\n",
              "      <td>NaN</td>\n",
              "      <td>I 18-21 month</td>\n",
              "      <td>NaN</td>\n",
              "      <td>NaN</td>\n",
              "      <td>NaN</td>\n",
              "      <td>NaN</td>\n",
              "      <td>NaN</td>\n",
              "      <td>NaN</td>\n",
              "      <td>NaN</td>\n",
              "      <td>NaN</td>\n",
              "      <td>NaN</td>\n",
              "      <td>4</td>\n",
              "      <td>NaN</td>\n",
              "      <td>NaN</td>\n",
              "      <td>1</td>\n",
              "    </tr>\n",
              "    <tr>\n",
              "      <th>2</th>\n",
              "      <td>NaN</td>\n",
              "      <td>K &gt; 24 month</td>\n",
              "      <td>3600.0</td>\n",
              "      <td>2.0</td>\n",
              "      <td>1020.0</td>\n",
              "      <td>340.0</td>\n",
              "      <td>2.0</td>\n",
              "      <td>NaN</td>\n",
              "      <td>90.0</td>\n",
              "      <td>46.0</td>\n",
              "      <td>7.0</td>\n",
              "      <td>17</td>\n",
              "      <td>On-net 1000F=10MilF;10d</td>\n",
              "      <td>1.0</td>\n",
              "      <td>0</td>\n",
              "    </tr>\n",
              "    <tr>\n",
              "      <th>3</th>\n",
              "      <td>DAKAR</td>\n",
              "      <td>K &gt; 24 month</td>\n",
              "      <td>13500.0</td>\n",
              "      <td>15.0</td>\n",
              "      <td>13502.0</td>\n",
              "      <td>4501.0</td>\n",
              "      <td>18.0</td>\n",
              "      <td>43804.0</td>\n",
              "      <td>41.0</td>\n",
              "      <td>102.0</td>\n",
              "      <td>2.0</td>\n",
              "      <td>62</td>\n",
              "      <td>Data:1000F=5GB,7d</td>\n",
              "      <td>11.0</td>\n",
              "      <td>0</td>\n",
              "    </tr>\n",
              "    <tr>\n",
              "      <th>4</th>\n",
              "      <td>DAKAR</td>\n",
              "      <td>K &gt; 24 month</td>\n",
              "      <td>1000.0</td>\n",
              "      <td>1.0</td>\n",
              "      <td>985.0</td>\n",
              "      <td>328.0</td>\n",
              "      <td>1.0</td>\n",
              "      <td>NaN</td>\n",
              "      <td>39.0</td>\n",
              "      <td>24.0</td>\n",
              "      <td>NaN</td>\n",
              "      <td>11</td>\n",
              "      <td>Mixt 250F=Unlimited_call24H</td>\n",
              "      <td>2.0</td>\n",
              "      <td>0</td>\n",
              "    </tr>\n",
              "    <tr>\n",
              "      <th>...</th>\n",
              "      <td>...</td>\n",
              "      <td>...</td>\n",
              "      <td>...</td>\n",
              "      <td>...</td>\n",
              "      <td>...</td>\n",
              "      <td>...</td>\n",
              "      <td>...</td>\n",
              "      <td>...</td>\n",
              "      <td>...</td>\n",
              "      <td>...</td>\n",
              "      <td>...</td>\n",
              "      <td>...</td>\n",
              "      <td>...</td>\n",
              "      <td>...</td>\n",
              "      <td>...</td>\n",
              "    </tr>\n",
              "    <tr>\n",
              "      <th>2154043</th>\n",
              "      <td>NaN</td>\n",
              "      <td>K &gt; 24 month</td>\n",
              "      <td>NaN</td>\n",
              "      <td>NaN</td>\n",
              "      <td>NaN</td>\n",
              "      <td>NaN</td>\n",
              "      <td>NaN</td>\n",
              "      <td>NaN</td>\n",
              "      <td>NaN</td>\n",
              "      <td>NaN</td>\n",
              "      <td>NaN</td>\n",
              "      <td>6</td>\n",
              "      <td>NaN</td>\n",
              "      <td>NaN</td>\n",
              "      <td>0</td>\n",
              "    </tr>\n",
              "    <tr>\n",
              "      <th>2154044</th>\n",
              "      <td>THIES</td>\n",
              "      <td>K &gt; 24 month</td>\n",
              "      <td>6100.0</td>\n",
              "      <td>15.0</td>\n",
              "      <td>5800.0</td>\n",
              "      <td>1933.0</td>\n",
              "      <td>15.0</td>\n",
              "      <td>621.0</td>\n",
              "      <td>26.0</td>\n",
              "      <td>40.0</td>\n",
              "      <td>40.0</td>\n",
              "      <td>55</td>\n",
              "      <td>Data: 200 F=100MB,24H</td>\n",
              "      <td>9.0</td>\n",
              "      <td>0</td>\n",
              "    </tr>\n",
              "    <tr>\n",
              "      <th>2154045</th>\n",
              "      <td>NaN</td>\n",
              "      <td>K &gt; 24 month</td>\n",
              "      <td>NaN</td>\n",
              "      <td>NaN</td>\n",
              "      <td>NaN</td>\n",
              "      <td>NaN</td>\n",
              "      <td>NaN</td>\n",
              "      <td>NaN</td>\n",
              "      <td>NaN</td>\n",
              "      <td>NaN</td>\n",
              "      <td>NaN</td>\n",
              "      <td>1</td>\n",
              "      <td>NaN</td>\n",
              "      <td>NaN</td>\n",
              "      <td>1</td>\n",
              "    </tr>\n",
              "    <tr>\n",
              "      <th>2154046</th>\n",
              "      <td>THIES</td>\n",
              "      <td>K &gt; 24 month</td>\n",
              "      <td>10000.0</td>\n",
              "      <td>11.0</td>\n",
              "      <td>7120.0</td>\n",
              "      <td>2373.0</td>\n",
              "      <td>13.0</td>\n",
              "      <td>NaN</td>\n",
              "      <td>0.0</td>\n",
              "      <td>140.0</td>\n",
              "      <td>13.0</td>\n",
              "      <td>28</td>\n",
              "      <td>All-net 500F=2000F;5d</td>\n",
              "      <td>12.0</td>\n",
              "      <td>0</td>\n",
              "    </tr>\n",
              "    <tr>\n",
              "      <th>2154047</th>\n",
              "      <td>NaN</td>\n",
              "      <td>K &gt; 24 month</td>\n",
              "      <td>NaN</td>\n",
              "      <td>NaN</td>\n",
              "      <td>NaN</td>\n",
              "      <td>NaN</td>\n",
              "      <td>NaN</td>\n",
              "      <td>2.0</td>\n",
              "      <td>NaN</td>\n",
              "      <td>NaN</td>\n",
              "      <td>NaN</td>\n",
              "      <td>62</td>\n",
              "      <td>NaN</td>\n",
              "      <td>NaN</td>\n",
              "      <td>1</td>\n",
              "    </tr>\n",
              "  </tbody>\n",
              "</table>\n",
              "<p>2154048 rows × 15 columns</p>\n",
              "</div>"
            ],
            "text/plain": [
              "         REGION         TENURE  MONTANT  FREQUENCE_RECH  REVENUE  \\\n",
              "0        FATICK   K > 24 month   4250.0            15.0   4251.0   \n",
              "1           NaN  I 18-21 month      NaN             NaN      NaN   \n",
              "2           NaN   K > 24 month   3600.0             2.0   1020.0   \n",
              "3         DAKAR   K > 24 month  13500.0            15.0  13502.0   \n",
              "4         DAKAR   K > 24 month   1000.0             1.0    985.0   \n",
              "...         ...            ...      ...             ...      ...   \n",
              "2154043     NaN   K > 24 month      NaN             NaN      NaN   \n",
              "2154044   THIES   K > 24 month   6100.0            15.0   5800.0   \n",
              "2154045     NaN   K > 24 month      NaN             NaN      NaN   \n",
              "2154046   THIES   K > 24 month  10000.0            11.0   7120.0   \n",
              "2154047     NaN   K > 24 month      NaN             NaN      NaN   \n",
              "\n",
              "         ARPU_SEGMENT  FREQUENCE  DATA_VOLUME  ON_NET  ORANGE  TIGO  \\\n",
              "0              1417.0       17.0          4.0   388.0    46.0   1.0   \n",
              "1                 NaN        NaN          NaN     NaN     NaN   NaN   \n",
              "2               340.0        2.0          NaN    90.0    46.0   7.0   \n",
              "3              4501.0       18.0      43804.0    41.0   102.0   2.0   \n",
              "4               328.0        1.0          NaN    39.0    24.0   NaN   \n",
              "...               ...        ...          ...     ...     ...   ...   \n",
              "2154043           NaN        NaN          NaN     NaN     NaN   NaN   \n",
              "2154044        1933.0       15.0        621.0    26.0    40.0  40.0   \n",
              "2154045           NaN        NaN          NaN     NaN     NaN   NaN   \n",
              "2154046        2373.0       13.0          NaN     0.0   140.0  13.0   \n",
              "2154047           NaN        NaN          2.0     NaN     NaN   NaN   \n",
              "\n",
              "         REGULARITY                        TOP_PACK  FREQ_TOP_PACK  CHURN  \n",
              "0                54  On net 200F=Unlimited _call24H            8.0      0  \n",
              "1                 4                             NaN            NaN      1  \n",
              "2                17         On-net 1000F=10MilF;10d            1.0      0  \n",
              "3                62               Data:1000F=5GB,7d           11.0      0  \n",
              "4                11     Mixt 250F=Unlimited_call24H            2.0      0  \n",
              "...             ...                             ...            ...    ...  \n",
              "2154043           6                             NaN            NaN      0  \n",
              "2154044          55           Data: 200 F=100MB,24H            9.0      0  \n",
              "2154045           1                             NaN            NaN      1  \n",
              "2154046          28           All-net 500F=2000F;5d           12.0      0  \n",
              "2154047          62                             NaN            NaN      1  \n",
              "\n",
              "[2154048 rows x 15 columns]"
            ]
          },
          "execution_count": 4,
          "metadata": {},
          "output_type": "execute_result"
        }
      ],
      "source": [
        "df"
      ]
    },
    {
      "cell_type": "code",
      "execution_count": 5,
      "metadata": {
        "id": "PFGv8aKXJIs2"
      },
      "outputs": [],
      "source": [
        "df['MONTANT'] = df['MONTANT'].fillna(df['MONTANT'].mean())\n",
        "df['FREQUENCE_RECH'] = df['FREQUENCE_RECH'].fillna(df['FREQUENCE_RECH'].mean())\n",
        "df['REVENUE'] = df['REVENUE'].fillna(df['REVENUE'].mode()[0])\n",
        "df['ARPU_SEGMENT'] = df['ARPU_SEGMENT'].fillna(df['ARPU_SEGMENT'].median())\n",
        "df['FREQUENCE'] = df['FREQUENCE'].fillna(df['FREQUENCE'].mean())\n",
        "df['DATA_VOLUME'] = df['DATA_VOLUME'].fillna(df['DATA_VOLUME'].mode()[0])\n",
        "df['ON_NET'] = df['ON_NET'].fillna(df['ON_NET'].mode()[0])\n",
        "df['ORANGE'] = df['ORANGE'].fillna(df['ORANGE'].mode()[0])\n",
        "df['TIGO'] = df['TIGO'].fillna(df['TIGO'].mode()[0])\n",
        "df['FREQ_TOP_PACK'] = df['FREQ_TOP_PACK'].fillna(df['FREQ_TOP_PACK'].mean())\n"
      ]
    },
    {
      "cell_type": "code",
      "execution_count": 6,
      "metadata": {
        "colab": {
          "base_uri": "https://localhost:8080/"
        },
        "id": "NHv-C8WhI9Zp",
        "outputId": "f5f9140f-a6c1-4091-a47e-d7484e7e34e1"
      },
      "outputs": [
        {
          "data": {
            "text/plain": [
              "REGION            849299\n",
              "TENURE                 0\n",
              "MONTANT                0\n",
              "FREQUENCE_RECH         0\n",
              "REVENUE                0\n",
              "ARPU_SEGMENT           0\n",
              "FREQUENCE              0\n",
              "DATA_VOLUME            0\n",
              "ON_NET                 0\n",
              "ORANGE                 0\n",
              "TIGO                   0\n",
              "REGULARITY             0\n",
              "TOP_PACK          902594\n",
              "FREQ_TOP_PACK          0\n",
              "CHURN                  0\n",
              "dtype: int64"
            ]
          },
          "execution_count": 6,
          "metadata": {},
          "output_type": "execute_result"
        }
      ],
      "source": [
        "df.isnull().sum()"
      ]
    },
    {
      "cell_type": "code",
      "execution_count": 7,
      "metadata": {
        "colab": {
          "base_uri": "https://localhost:8080/"
        },
        "id": "yu1I0jx2J6B-",
        "outputId": "c7155257-d81f-4ac3-9a08-791b1e9267c6"
      },
      "outputs": [
        {
          "data": {
            "text/plain": [
              "REGION            0\n",
              "TENURE            0\n",
              "MONTANT           0\n",
              "FREQUENCE_RECH    0\n",
              "REVENUE           0\n",
              "ARPU_SEGMENT      0\n",
              "FREQUENCE         0\n",
              "DATA_VOLUME       0\n",
              "ON_NET            0\n",
              "ORANGE            0\n",
              "TIGO              0\n",
              "REGULARITY        0\n",
              "TOP_PACK          0\n",
              "FREQ_TOP_PACK     0\n",
              "CHURN             0\n",
              "dtype: int64"
            ]
          },
          "execution_count": 7,
          "metadata": {},
          "output_type": "execute_result"
        }
      ],
      "source": [
        "df = df.dropna()\n",
        "df.isnull().sum()"
      ]
    },
    {
      "cell_type": "code",
      "execution_count": 8,
      "metadata": {
        "colab": {
          "base_uri": "https://localhost:8080/"
        },
        "id": "PhRPvBFMJ7c3",
        "outputId": "fffe7680-7984-4127-ce9b-75e1fd47bb00"
      },
      "outputs": [
        {
          "data": {
            "text/plain": [
              "(1000593, 15)"
            ]
          },
          "execution_count": 8,
          "metadata": {},
          "output_type": "execute_result"
        }
      ],
      "source": [
        "df.shape"
      ]
    },
    {
      "cell_type": "code",
      "execution_count": 9,
      "metadata": {
        "colab": {
          "base_uri": "https://localhost:8080/"
        },
        "id": "xFa8yisrJ-7Z",
        "outputId": "91c04d38-fc3c-4b80-ea05-14bed87ed619"
      },
      "outputs": [
        {
          "name": "stdout",
          "output_type": "stream",
          "text": [
            "REGION ['FATICK' 'DAKAR' 'LOUGA' 'TAMBACOUNDA' 'KAOLACK' 'SAINT-LOUIS' 'THIES'\n",
            " 'KAFFRINE' 'DIOURBEL' 'MATAM' 'KOLDA' 'ZIGUINCHOR' 'SEDHIOU' 'KEDOUGOU']\n",
            "TENURE ['K > 24 month' 'H 15-18 month' 'I 18-21 month' 'F 9-12 month'\n",
            " 'G 12-15 month' 'J 21-24 month' 'E 6-9 month' 'D 3-6 month']\n",
            "MONTANT [ 4250. 13500.  1000. ... 18770.  8025.  2120.]\n",
            "FREQUENCE_RECH [ 15.          1.         17.         16.          8.         27.\n",
            "   7.         24.         46.         22.         12.          4.\n",
            "  66.          2.         25.         63.         10.         11.\n",
            "  19.         14.          6.         43.         37.         73.\n",
            "  48.         29.         13.         40.          3.          5.\n",
            "  31.          9.         20.         21.         18.         28.\n",
            "  26.         41.         23.         47.         34.         61.\n",
            "  45.         38.         70.         42.         50.         57.\n",
            "  55.         44.         53.         65.         33.         72.\n",
            "  35.         32.         59.         49.         62.         69.\n",
            "  77.         11.5291199  36.         51.         52.         39.\n",
            "  56.         64.         54.         30.         58.         60.\n",
            "  67.         74.         92.         79.         68.         71.\n",
            "  75.         76.         81.         89.         82.         93.\n",
            "  84.         96.         78.         87.        106.        103.\n",
            "  88.         86.         97.         80.         95.         85.\n",
            "  91.         98.         83.         94.         90.        108.\n",
            "  99.        105.        117.        115.        101.        133.\n",
            " 109.        102.        131.        111.        113.        112.\n",
            " 100.        110.        104.        107.        119.        118.\n",
            " 114.        132.        121.       ]\n",
            "REVENUE [ 4251. 13502.   985. ... 40251. 38534. 35633.]\n",
            "ARPU_SEGMENT [ 1417.  4501.   328. ... 21317. 17816. 12845.]\n",
            "FREQUENCE [17.         18.          1.         22.          8.         36.\n",
            "  7.         29.         57.         27.         15.          6.\n",
            " 64.         30.          2.         25.          5.          9.\n",
            " 26.         68.         19.         12.         20.         42.\n",
            " 43.         73.         37.         44.         39.          3.\n",
            " 35.         14.         21.         11.         46.          4.\n",
            " 10.         16.         28.         13.         32.         24.\n",
            " 23.         47.         51.         48.         31.         38.\n",
            " 41.         54.         63.         50.         59.         40.\n",
            " 45.         56.         58.         33.         80.         65.\n",
            " 67.         71.         34.         55.         53.         78.\n",
            " 49.         52.         66.         62.         83.         74.\n",
            " 82.         76.         81.         77.         75.         72.\n",
            " 69.         60.         61.         85.         79.         86.\n",
            " 13.97814146 89.         70.         84.         88.         91.\n",
            " 90.         87.        ]\n",
            "DATA_VOLUME [4.0000e+00 4.3804e+04 0.0000e+00 ... 4.6302e+04 1.9391e+04 3.3187e+04]\n",
            "ON_NET [ 388.   41.   39. ... 9205. 9235. 7086.]\n",
            "ORANGE [  46.  102.   24. ... 2782. 6109. 2826.]\n",
            "TIGO [1.000e+00 2.000e+00 9.100e+01 ... 8.830e+02 1.434e+03 1.267e+03]\n",
            "REGULARITY [54 62 11 55 45 59 58 20 53 43 40 35 57 29  5 61 42  9  4 34 37 32 51 46\n",
            " 27 12 60 56 52 21 44 10 24 18 19 50 31 36 49 38 14 26 17 28 13  8 47 39\n",
            " 33  3 16  7 23  1  2 25 41 48 15  6 30 22]\n",
            "TOP_PACK ['On net 200F=Unlimited _call24H' 'Data:1000F=5GB,7d'\n",
            " 'Mixt 250F=Unlimited_call24H' 'MIXT:500F= 2500F on net _2500F off net;2d'\n",
            " 'All-net 500F=2000F;5d' 'On-net 500F_FNF;3d' 'Data: 100 F=40MB,24H'\n",
            " 'MIXT: 200mnoff net _unl on net _5Go;30d' 'Jokko_Daily'\n",
            " 'Data: 200 F=100MB,24H' 'Data:490F=1GB,7d' 'Twter_U2opia_Daily'\n",
            " 'Data:1000F=2GB,30d' 'On-net 1000F=10MilF;10d' 'IVR Echat_Daily_50F'\n",
            " 'Pilot_Youth4_490' 'On-net 500=4000,10d'\n",
            " 'All-net 500F =2000F_AllNet_Unlimited' 'Twter_U2opia_Weekly'\n",
            " 'Data:200F=Unlimited,24H' 'On-net 200F=60mn;1d' 'All-net 600F= 3000F ;5d'\n",
            " 'All-net 1000F=(3000F On+3000F Off);5d' 'VAS(IVR_Radio_Daily)'\n",
            " 'Data:3000F=10GB,30d' 'All-net 1000=5000;5d' 'Twter_U2opia_Monthly'\n",
            " 'MIXT: 390F=04HOn-net_400SMS_400 Mo;4h\\t' 'FNF2 ( JAPPANTE)'\n",
            " 'Yewouleen_PKG' 'Data:150F=SPPackage1,24H' 'Data:500F=2GB,24H'\n",
            " 'MROMO_TIMWES_RENEW' 'New_YAKALMA_4_ALL' 'Data:1500F=3GB,30D'\n",
            " 'All-net 500F=4000F ; 5d' 'All-net 300=600;2d' 'Data:300F=100MB,2d'\n",
            " 'Jokko_promo' 'Facebook_MIX_2D'\n",
            " 'All-net 500F=1250F_AllNet_1250_Onnet;48h' '500=Unlimited3Day'\n",
            " 'MIXT: 590F=02H_On-net_200SMS_200 Mo;24h\\t\\t'\n",
            " 'On net 200F= 3000F_10Mo ;24H' '200=Unlimited1Day'\n",
            " 'YMGX 100=1 hour FNF, 24H/1 month' 'SUPERMAGIK_5000'\n",
            " 'Data:DailyCycle_Pilot_1.5GB'\n",
            " 'MIXT:1000F=4250 Off net _ 4250F On net _100Mo; 5d'\n",
            " 'Data:700F=SPPackage1,7d' 'Data: 490F=Night,00H-08H' 'Data:700F=1.5GB,7d'\n",
            " 'Data:30Go_V 30_Days' 'Data:50F=30MB_24H' 'MROMO_TIMWES_OneDAY'\n",
            " 'On-net 300F=1800F;3d' 'All-net 5000= 20000off+20000on;30d'\n",
            " 'CVM_on-net bundle 500=5000' 'Internat: 1000F_Zone_3;24h\\t\\t'\n",
            " 'Pilot_Youth1_290' 'Jokko_Monthly' 'EVC_500=2000F'\n",
            " 'MIXT:10000F=10hAllnet_3Go_1h_Zone3;30d\\t\\t' 'DataPack_Incoming'\n",
            " 'EVC_Jokko_Weekly' '200F=10mnOnNetValid1H' 'Data:1500F=SPPackage1,30d'\n",
            " 'Internat: 1000F_Zone_1;24H\\t\\t' 'Jokko_Weekly' 'SUPERMAGIK_1000'\n",
            " 'VAS(IVR_Radio_Monthly)' 'MIXT: 5000F=80Konnet_20Koffnet_250Mo;30d\\t\\t'\n",
            " 'On-net 2000f_One_Month_100H; 30d' 'EVC_JOKKO30' 'TelmunCRBT_daily'\n",
            " 'APANews_weekly' 'EVC_100Mo' 'Internat: 2000F_Zone_2;24H\\t\\t'\n",
            " 'Data: 200F=1GB,24H' 'MIXT: 500F=75(SMS, ONNET, Mo)_1000FAllNet;24h\\t\\t'\n",
            " 'Data_EVC_2Go24H' 'Mixt : 500F=2500Fonnet_2500Foffnet ;5d'\n",
            " 'VAS(IVR_Radio_Weekly)' 'IVR Echat_Monthly_500F' 'CVM_200f=400MB'\n",
            " 'FNF_Youth_ESN' 'FIFA_TS_daily' 'MIXT: 4900F= 10H on net_1,5Go ;30d'\n",
            " 'IVR Echat_Weekly_200F' '1000=Unlimited7Day' 'Incoming_Bonus_woma'\n",
            " 'CVM_100F_unlimited' 'CVM_100f=200 MB' 'pilot_offer6' '305155009'\n",
            " 'Postpaid FORFAIT 10H Package' 'NEW_CLIR_PERMANENT_LIBERTE_MOBILE'\n",
            " '1500=Unlimited7Day' 'pack_chinguitel_24h' 'EVC_700Mo'\n",
            " 'Data_Mifi_10Go_Monthly' 'CVM_100f=500 onNet' 'CVM_On-net 1300f=12500'\n",
            " 'EVC_4900=12000F' 'CVM_On-net 400f=2200F' 'YMGX on-net 100=700F, 24H'\n",
            " 'CVM_150F_unlimited' 'EVC_MEGA10000F' 'CVM_500f=2GB' 'SMS Max'\n",
            " '301765007' 'MegaChrono_3000F=12500F TOUS RESEAUX' 'pilot_offer4'\n",
            " 'Go-NetPro-4 Go' 'GPRS_3000Equal10GPORTAL' 'ESN_POSTPAID_CLASSIC_RENT'\n",
            " 'Data:New-GPRS_PKG_1500F' 'GPRS_BKG_1000F MIFI'\n",
            " 'All-net 500= 4000off+4000on;24H' 'APANews_monthly'\n",
            " 'NEW_CLIR_TEMPRESTRICTED_LIBERTE_MOBILE' 'EVC_1Go']\n",
            "FREQ_TOP_PACK [  8.  11.   2.  18.   6.   9.  27.  21.   4.  42.  12.   1.  28.  10.\n",
            "   3.   5.  13.  45.  41.  53.  31.  24.  19.  16.  15.  20.  14.  25.\n",
            "   7.  43.  22.  17.  23.  82.  58.  35.  80.  32.  50.  48.  36.  55.\n",
            "  47. 120.  40.  26.  37.  51.  88.  44.  33.  34.  71.  39.  68.  29.\n",
            "  54.  62.  46.  38.  30.  69.  61.  52.  56.  74.  77.  65.  73.  60.\n",
            "  72.  63.  64. 101.  66.  49.  79.  57.  78. 116.  67.  85. 125. 114.\n",
            " 121.  98.  84.  75.  70. 111. 151.  89.  76. 110.  83.  59. 108.  93.\n",
            "  87.  90.  99. 124.  86. 174. 126.  97. 105. 139. 102. 113.  96. 136.\n",
            " 115. 119. 112. 122.  92. 185.  91. 109.  81. 103. 107.  95. 128. 316.\n",
            " 100.  94. 123. 118. 156. 170. 143. 137. 294. 592. 104. 304. 141. 163.\n",
            " 214. 132. 117. 106. 127. 130. 164. 188. 206. 131. 172. 134. 129. 135.\n",
            " 308. 161. 144. 152. 148. 217. 215. 262. 133. 200. 145. 257. 258. 150.\n",
            " 165. 433. 240. 160. 180. 190. 177. 274. 198. 153. 169. 414. 146. 168.\n",
            " 147. 162. 278. 253. 201. 212. 239. 238. 171. 612. 713. 260. 413. 452.\n",
            " 340. 511. 407. 187. 158. 286. 544. 227. 244. 149. 159. 320. 210. 142.\n",
            " 140. 189. 207. 178. 195. 629. 235. 186. 624. 560. 209. 261. 183. 428.\n",
            " 203. 138. 202. 254. 243. 350. 155. 166. 250. 154. 157. 237. 193. 197.]\n",
            "CHURN [0 1]\n"
          ]
        }
      ],
      "source": [
        "for i in df.columns:\n",
        "  print(i,df[i].unique())"
      ]
    },
    {
      "cell_type": "code",
      "execution_count": 10,
      "metadata": {
        "colab": {
          "base_uri": "https://localhost:8080/"
        },
        "id": "FwHh7yrGKzUu",
        "outputId": "afdab378-f5ba-4371-e981-0a50af483b58"
      },
      "outputs": [
        {
          "name": "stdout",
          "output_type": "stream",
          "text": [
            "REGION ['FATICK' 'DAKAR' 'LOUGA' 'TAMBACOUNDA' 'KAOLACK' 'SAINT-LOUIS' 'THIES'\n",
            " 'KAFFRINE' 'DIOURBEL' 'MATAM' 'KOLDA' 'ZIGUINCHOR' 'SEDHIOU' 'KEDOUGOU']\n",
            "TENURE ['K > 24 month' 'H 15-18 month' 'I 18-21 month' 'F 9-12 month'\n",
            " 'G 12-15 month' 'J 21-24 month' 'E 6-9 month' 'D 3-6 month']\n",
            "TOP_PACK ['On net 200F=Unlimited _call24H' 'Data:1000F=5GB,7d'\n",
            " 'Mixt 250F=Unlimited_call24H' 'MIXT:500F= 2500F on net _2500F off net;2d'\n",
            " 'All-net 500F=2000F;5d' 'On-net 500F_FNF;3d' 'Data: 100 F=40MB,24H'\n",
            " 'MIXT: 200mnoff net _unl on net _5Go;30d' 'Jokko_Daily'\n",
            " 'Data: 200 F=100MB,24H' 'Data:490F=1GB,7d' 'Twter_U2opia_Daily'\n",
            " 'Data:1000F=2GB,30d' 'On-net 1000F=10MilF;10d' 'IVR Echat_Daily_50F'\n",
            " 'Pilot_Youth4_490' 'On-net 500=4000,10d'\n",
            " 'All-net 500F =2000F_AllNet_Unlimited' 'Twter_U2opia_Weekly'\n",
            " 'Data:200F=Unlimited,24H' 'On-net 200F=60mn;1d' 'All-net 600F= 3000F ;5d'\n",
            " 'All-net 1000F=(3000F On+3000F Off);5d' 'VAS(IVR_Radio_Daily)'\n",
            " 'Data:3000F=10GB,30d' 'All-net 1000=5000;5d' 'Twter_U2opia_Monthly'\n",
            " 'MIXT: 390F=04HOn-net_400SMS_400 Mo;4h\\t' 'FNF2 ( JAPPANTE)'\n",
            " 'Yewouleen_PKG' 'Data:150F=SPPackage1,24H' 'Data:500F=2GB,24H'\n",
            " 'MROMO_TIMWES_RENEW' 'New_YAKALMA_4_ALL' 'Data:1500F=3GB,30D'\n",
            " 'All-net 500F=4000F ; 5d' 'All-net 300=600;2d' 'Data:300F=100MB,2d'\n",
            " 'Jokko_promo' 'Facebook_MIX_2D'\n",
            " 'All-net 500F=1250F_AllNet_1250_Onnet;48h' '500=Unlimited3Day'\n",
            " 'MIXT: 590F=02H_On-net_200SMS_200 Mo;24h\\t\\t'\n",
            " 'On net 200F= 3000F_10Mo ;24H' '200=Unlimited1Day'\n",
            " 'YMGX 100=1 hour FNF, 24H/1 month' 'SUPERMAGIK_5000'\n",
            " 'Data:DailyCycle_Pilot_1.5GB'\n",
            " 'MIXT:1000F=4250 Off net _ 4250F On net _100Mo; 5d'\n",
            " 'Data:700F=SPPackage1,7d' 'Data: 490F=Night,00H-08H' 'Data:700F=1.5GB,7d'\n",
            " 'Data:30Go_V 30_Days' 'Data:50F=30MB_24H' 'MROMO_TIMWES_OneDAY'\n",
            " 'On-net 300F=1800F;3d' 'All-net 5000= 20000off+20000on;30d'\n",
            " 'CVM_on-net bundle 500=5000' 'Internat: 1000F_Zone_3;24h\\t\\t'\n",
            " 'Pilot_Youth1_290' 'Jokko_Monthly' 'EVC_500=2000F'\n",
            " 'MIXT:10000F=10hAllnet_3Go_1h_Zone3;30d\\t\\t' 'DataPack_Incoming'\n",
            " 'EVC_Jokko_Weekly' '200F=10mnOnNetValid1H' 'Data:1500F=SPPackage1,30d'\n",
            " 'Internat: 1000F_Zone_1;24H\\t\\t' 'Jokko_Weekly' 'SUPERMAGIK_1000'\n",
            " 'VAS(IVR_Radio_Monthly)' 'MIXT: 5000F=80Konnet_20Koffnet_250Mo;30d\\t\\t'\n",
            " 'On-net 2000f_One_Month_100H; 30d' 'EVC_JOKKO30' 'TelmunCRBT_daily'\n",
            " 'APANews_weekly' 'EVC_100Mo' 'Internat: 2000F_Zone_2;24H\\t\\t'\n",
            " 'Data: 200F=1GB,24H' 'MIXT: 500F=75(SMS, ONNET, Mo)_1000FAllNet;24h\\t\\t'\n",
            " 'Data_EVC_2Go24H' 'Mixt : 500F=2500Fonnet_2500Foffnet ;5d'\n",
            " 'VAS(IVR_Radio_Weekly)' 'IVR Echat_Monthly_500F' 'CVM_200f=400MB'\n",
            " 'FNF_Youth_ESN' 'FIFA_TS_daily' 'MIXT: 4900F= 10H on net_1,5Go ;30d'\n",
            " 'IVR Echat_Weekly_200F' '1000=Unlimited7Day' 'Incoming_Bonus_woma'\n",
            " 'CVM_100F_unlimited' 'CVM_100f=200 MB' 'pilot_offer6' '305155009'\n",
            " 'Postpaid FORFAIT 10H Package' 'NEW_CLIR_PERMANENT_LIBERTE_MOBILE'\n",
            " '1500=Unlimited7Day' 'pack_chinguitel_24h' 'EVC_700Mo'\n",
            " 'Data_Mifi_10Go_Monthly' 'CVM_100f=500 onNet' 'CVM_On-net 1300f=12500'\n",
            " 'EVC_4900=12000F' 'CVM_On-net 400f=2200F' 'YMGX on-net 100=700F, 24H'\n",
            " 'CVM_150F_unlimited' 'EVC_MEGA10000F' 'CVM_500f=2GB' 'SMS Max'\n",
            " '301765007' 'MegaChrono_3000F=12500F TOUS RESEAUX' 'pilot_offer4'\n",
            " 'Go-NetPro-4 Go' 'GPRS_3000Equal10GPORTAL' 'ESN_POSTPAID_CLASSIC_RENT'\n",
            " 'Data:New-GPRS_PKG_1500F' 'GPRS_BKG_1000F MIFI'\n",
            " 'All-net 500= 4000off+4000on;24H' 'APANews_monthly'\n",
            " 'NEW_CLIR_TEMPRESTRICTED_LIBERTE_MOBILE' 'EVC_1Go']\n"
          ]
        }
      ],
      "source": [
        "for i in df.columns:\n",
        "  if df[i].dtype == 'object':\n",
        "    print(i,df[i].unique())"
      ]
    },
    {
      "cell_type": "code",
      "execution_count": 11,
      "metadata": {
        "colab": {
          "base_uri": "https://localhost:8080/"
        },
        "id": "hKwSXHL8LRqF",
        "outputId": "05e62c30-3f27-42b2-f0f4-bb2d1ede23a4"
      },
      "outputs": [
        {
          "data": {
            "text/plain": [
              "TOP_PACK\n",
              "All-net 500F=2000F;5d                                263214\n",
              "On net 200F=Unlimited _call24H                       126299\n",
              "Data:490F=1GB,7d                                      85890\n",
              "Data: 100 F=40MB,24H                                  62576\n",
              "Mixt 250F=Unlimited_call24H                           53890\n",
              "MIXT:500F= 2500F on net _2500F off net;2d             53796\n",
              "Data:1000F=2GB,30d                                    48374\n",
              "All-net 500F =2000F_AllNet_Unlimited                  41717\n",
              "Jokko_Daily                                           35084\n",
              "Data: 200 F=100MB,24H                                 30108\n",
              "On-net 500=4000,10d                                   21640\n",
              "IVR Echat_Daily_50F                                   21384\n",
              "MIXT: 200mnoff net _unl on net _5Go;30d               18082\n",
              "On-net 1000F=10MilF;10d                               17090\n",
              "On-net 500F_FNF;3d                                    16848\n",
              "Data:200F=Unlimited,24H                               16575\n",
              "VAS(IVR_Radio_Daily)                                  10870\n",
              "Data:1000F=5GB,7d                                     10670\n",
              "Twter_U2opia_Daily                                     9390\n",
              "All-net 600F= 3000F ;5d                                8405\n",
              "On-net 200F=60mn;1d                                    4738\n",
              "Twter_U2opia_Weekly                                    4634\n",
              "All-net 1000=5000;5d                                   4476\n",
              "Data:500F=2GB,24H                                      3645\n",
              "Data:3000F=10GB,30d                                    2749\n",
              "MIXT: 390F=04HOn-net_400SMS_400 Mo;4h\\t                2203\n",
              "All-net 500F=1250F_AllNet_1250_Onnet;48h               2203\n",
              "Data:300F=100MB,2d                                     1708\n",
              "All-net 1000F=(3000F On+3000F Off);5d                  1705\n",
              "Data:50F=30MB_24H                                      1645\n",
              "MIXT: 590F=02H_On-net_200SMS_200 Mo;24h\\t\\t            1400\n",
              "On net 200F= 3000F_10Mo ;24H                           1335\n",
              "200=Unlimited1Day                                      1190\n",
              "Data:DailyCycle_Pilot_1.5GB                            1188\n",
              "All-net 300=600;2d                                     1139\n",
              "Data:150F=SPPackage1,24H                               1007\n",
              "Jokko_promo                                             776\n",
              "Data:1500F=3GB,30D                                      768\n",
              "Data:700F=1.5GB,7d                                      623\n",
              "On-net 300F=1800F;3d                                    574\n",
              "CVM_on-net bundle 500=5000                              525\n",
              "Jokko_Monthly                                           495\n",
              "Data:30Go_V 30_Days                                     471\n",
              "Facebook_MIX_2D                                         467\n",
              "MROMO_TIMWES_RENEW                                      465\n",
              "MROMO_TIMWES_OneDAY                                     459\n",
              "Pilot_Youth4_490                                        456\n",
              "Yewouleen_PKG                                           419\n",
              "Data:1500F=SPPackage1,30d                               399\n",
              "YMGX 100=1 hour FNF, 24H/1 month                        384\n",
              "Twter_U2opia_Monthly                                    361\n",
              "Pilot_Youth1_290                                        333\n",
              "New_YAKALMA_4_ALL                                       320\n",
              "All-net 5000= 20000off+20000on;30d                      291\n",
              "SUPERMAGIK_5000                                         270\n",
              "Internat: 1000F_Zone_1;24H\\t\\t                          259\n",
              "Data: 490F=Night,00H-08H                                240\n",
              "FNF2 ( JAPPANTE)                                        206\n",
              "SUPERMAGIK_1000                                         201\n",
              "DataPack_Incoming                                       177\n",
              "MIXT:1000F=4250 Off net _ 4250F On net _100Mo; 5d       158\n",
              "On-net 2000f_One_Month_100H; 30d                        137\n",
              "EVC_500=2000F                                           111\n",
              "MIXT:10000F=10hAllnet_3Go_1h_Zone3;30d\\t\\t              110\n",
              "MIXT: 5000F=80Konnet_20Koffnet_250Mo;30d\\t\\t             93\n",
              "MIXT: 500F=75(SMS, ONNET, Mo)_1000FAllNet;24h\\t\\t        80\n",
              "500=Unlimited3Day                                        77\n",
              "Data:700F=SPPackage1,7d                                  76\n",
              "FIFA_TS_daily                                            75\n",
              "200F=10mnOnNetValid1H                                    74\n",
              "Jokko_Weekly                                             71\n",
              "TelmunCRBT_daily                                         71\n",
              "All-net 500F=4000F ; 5d                                  61\n",
              "MIXT: 4900F= 10H on net_1,5Go ;30d                       57\n",
              "IVR Echat_Weekly_200F                                    55\n",
              "VAS(IVR_Radio_Monthly)                                   55\n",
              "Data: 200F=1GB,24H                                       47\n",
              "Incoming_Bonus_woma                                      39\n",
              "Internat: 2000F_Zone_2;24H\\t\\t                           38\n",
              "Mixt : 500F=2500Fonnet_2500Foffnet ;5d                   38\n",
              "Internat: 1000F_Zone_3;24h\\t\\t                           31\n",
              "VAS(IVR_Radio_Weekly)                                    29\n",
              "CVM_200f=400MB                                           28\n",
              "EVC_100Mo                                                26\n",
              "FNF_Youth_ESN                                            23\n",
              "305155009                                                19\n",
              "1000=Unlimited7Day                                       13\n",
              "IVR Echat_Monthly_500F                                    9\n",
              "EVC_JOKKO30                                               7\n",
              "NEW_CLIR_PERMANENT_LIBERTE_MOBILE                         7\n",
              "Data_EVC_2Go24H                                           6\n",
              "CVM_100F_unlimited                                        6\n",
              "CVM_On-net 400f=2200F                                     5\n",
              "EVC_700Mo                                                 5\n",
              "CVM_100f=200 MB                                           5\n",
              "EVC_Jokko_Weekly                                          5\n",
              "pilot_offer6                                              5\n",
              "CVM_500f=2GB                                              3\n",
              "pack_chinguitel_24h                                       3\n",
              "CVM_On-net 1300f=12500                                    3\n",
              "APANews_weekly                                            2\n",
              "GPRS_3000Equal10GPORTAL                                   2\n",
              "EVC_MEGA10000F                                            2\n",
              "EVC_4900=12000F                                           2\n",
              "pilot_offer4                                              1\n",
              "GPRS_BKG_1000F MIFI                                       1\n",
              "Data:New-GPRS_PKG_1500F                                   1\n",
              "All-net 500= 4000off+4000on;24H                           1\n",
              "APANews_monthly                                           1\n",
              "ESN_POSTPAID_CLASSIC_RENT                                 1\n",
              "NEW_CLIR_TEMPRESTRICTED_LIBERTE_MOBILE                    1\n",
              "Go-NetPro-4 Go                                            1\n",
              "Postpaid FORFAIT 10H Package                              1\n",
              "MegaChrono_3000F=12500F TOUS RESEAUX                      1\n",
              "301765007                                                 1\n",
              "SMS Max                                                   1\n",
              "CVM_150F_unlimited                                        1\n",
              "YMGX on-net 100=700F, 24H                                 1\n",
              "CVM_100f=500 onNet                                        1\n",
              "Data_Mifi_10Go_Monthly                                    1\n",
              "1500=Unlimited7Day                                        1\n",
              "EVC_1Go                                                   1\n",
              "Name: count, dtype: int64"
            ]
          },
          "execution_count": 11,
          "metadata": {},
          "output_type": "execute_result"
        }
      ],
      "source": [
        "pd.set_option('display.max_rows', None)\n",
        "df['TOP_PACK'].value_counts()\n"
      ]
    },
    {
      "cell_type": "code",
      "execution_count": 12,
      "metadata": {
        "id": "O59ZQHeKMAF2"
      },
      "outputs": [],
      "source": [
        "def shorten_categories(categories, cutoff):\n",
        "    categorical_map = {}\n",
        "    for i in range(len(categories)):\n",
        "        if categories.values[i] >= cutoff:\n",
        "            categorical_map[categories.index[i]] = categories.index[i]\n",
        "        else:\n",
        "            categorical_map[categories.index[i]] = 'Other'\n",
        "    return categorical_map"
      ]
    },
    {
      "cell_type": "code",
      "execution_count": 13,
      "metadata": {
        "colab": {
          "base_uri": "https://localhost:8080/"
        },
        "id": "EcmvINDlMH50",
        "outputId": "9331f5b1-1966-4854-f18e-b37430eb50d5"
      },
      "outputs": [
        {
          "name": "stderr",
          "output_type": "stream",
          "text": [
            "C:\\Users\\AUVIGHA TECH\\AppData\\Local\\Temp\\ipykernel_12736\\3402331890.py:2: SettingWithCopyWarning: \n",
            "A value is trying to be set on a copy of a slice from a DataFrame.\n",
            "Try using .loc[row_indexer,col_indexer] = value instead\n",
            "\n",
            "See the caveats in the documentation: https://pandas.pydata.org/pandas-docs/stable/user_guide/indexing.html#returning-a-view-versus-a-copy\n",
            "  df['TOP_PACK'] = df['TOP_PACK'].map(country_map)\n"
          ]
        },
        {
          "data": {
            "text/plain": [
              "TOP_PACK\n",
              "All-net 500F=2000F;5d                          263214\n",
              "On net 200F=Unlimited _call24H                 126299\n",
              "Data:490F=1GB,7d                                85890\n",
              "Data: 100 F=40MB,24H                            62576\n",
              "Mixt 250F=Unlimited_call24H                     53890\n",
              "MIXT:500F= 2500F on net _2500F off net;2d       53796\n",
              "Data:1000F=2GB,30d                              48374\n",
              "All-net 500F =2000F_AllNet_Unlimited            41717\n",
              "Jokko_Daily                                     35084\n",
              "Data: 200 F=100MB,24H                           30108\n",
              "On-net 500=4000,10d                             21640\n",
              "IVR Echat_Daily_50F                             21384\n",
              "MIXT: 200mnoff net _unl on net _5Go;30d         18082\n",
              "On-net 1000F=10MilF;10d                         17090\n",
              "On-net 500F_FNF;3d                              16848\n",
              "Data:200F=Unlimited,24H                         16575\n",
              "VAS(IVR_Radio_Daily)                            10870\n",
              "Data:1000F=5GB,7d                               10670\n",
              "Twter_U2opia_Daily                               9390\n",
              "All-net 600F= 3000F ;5d                          8405\n",
              "On-net 200F=60mn;1d                              4738\n",
              "Twter_U2opia_Weekly                              4634\n",
              "All-net 1000=5000;5d                             4476\n",
              "Data:500F=2GB,24H                                3645\n",
              "Data:3000F=10GB,30d                              2749\n",
              "MIXT: 390F=04HOn-net_400SMS_400 Mo;4h\\t          2203\n",
              "All-net 500F=1250F_AllNet_1250_Onnet;48h         2203\n",
              "Other                                            1964\n",
              "Data:300F=100MB,2d                               1708\n",
              "All-net 1000F=(3000F On+3000F Off);5d            1705\n",
              "Data:50F=30MB_24H                                1645\n",
              "MIXT: 590F=02H_On-net_200SMS_200 Mo;24h\\t\\t      1400\n",
              "On net 200F= 3000F_10Mo ;24H                     1335\n",
              "200=Unlimited1Day                                1190\n",
              "Data:DailyCycle_Pilot_1.5GB                      1188\n",
              "All-net 300=600;2d                               1139\n",
              "Data:150F=SPPackage1,24H                         1007\n",
              "Jokko_promo                                       776\n",
              "Data:1500F=3GB,30D                                768\n",
              "Data:700F=1.5GB,7d                                623\n",
              "On-net 300F=1800F;3d                              574\n",
              "CVM_on-net bundle 500=5000                        525\n",
              "Jokko_Monthly                                     495\n",
              "Data:30Go_V 30_Days                               471\n",
              "Facebook_MIX_2D                                   467\n",
              "MROMO_TIMWES_RENEW                                465\n",
              "MROMO_TIMWES_OneDAY                               459\n",
              "Pilot_Youth4_490                                  456\n",
              "Yewouleen_PKG                                     419\n",
              "Data:1500F=SPPackage1,30d                         399\n",
              "YMGX 100=1 hour FNF, 24H/1 month                  384\n",
              "Twter_U2opia_Monthly                              361\n",
              "Pilot_Youth1_290                                  333\n",
              "New_YAKALMA_4_ALL                                 320\n",
              "All-net 5000= 20000off+20000on;30d                291\n",
              "SUPERMAGIK_5000                                   270\n",
              "Internat: 1000F_Zone_1;24H\\t\\t                    259\n",
              "Data: 490F=Night,00H-08H                          240\n",
              "FNF2 ( JAPPANTE)                                  206\n",
              "SUPERMAGIK_1000                                   201\n",
              "Name: count, dtype: int64"
            ]
          },
          "execution_count": 13,
          "metadata": {},
          "output_type": "execute_result"
        }
      ],
      "source": [
        "country_map = shorten_categories(df.TOP_PACK.value_counts(), 200)\n",
        "df['TOP_PACK'] = df['TOP_PACK'].map(country_map)\n",
        "df.TOP_PACK.value_counts()"
      ]
    },
    {
      "cell_type": "code",
      "execution_count": 14,
      "metadata": {
        "colab": {
          "base_uri": "https://localhost:8080/"
        },
        "id": "ngMLi9s4Mrpn",
        "outputId": "bce8f7e8-7714-4b1c-8472-355aa5c601b3"
      },
      "outputs": [
        {
          "name": "stdout",
          "output_type": "stream",
          "text": [
            "Index(['REGION', 'TENURE', 'MONTANT', 'FREQUENCE_RECH', 'REVENUE',\n",
            "       'ARPU_SEGMENT', 'FREQUENCE', 'DATA_VOLUME', 'ON_NET', 'ORANGE', 'TIGO',\n",
            "       'REGULARITY', 'TOP_PACK', 'FREQ_TOP_PACK', 'CHURN'],\n",
            "      dtype='object')\n"
          ]
        }
      ],
      "source": [
        "print(df.columns)"
      ]
    },
    {
      "cell_type": "code",
      "execution_count": 15,
      "metadata": {
        "colab": {
          "base_uri": "https://localhost:8080/"
        },
        "id": "uhunl6i3NRUw",
        "outputId": "82d78062-3363-446d-d4c6-1a95cae5e6de"
      },
      "outputs": [
        {
          "name": "stdout",
          "output_type": "stream",
          "text": [
            "REGION object\n",
            "TENURE object\n",
            "MONTANT float64\n",
            "FREQUENCE_RECH float64\n",
            "REVENUE float64\n",
            "ARPU_SEGMENT float64\n",
            "FREQUENCE float64\n",
            "DATA_VOLUME float64\n",
            "ON_NET float64\n",
            "ORANGE float64\n",
            "TIGO float64\n",
            "REGULARITY int64\n",
            "TOP_PACK object\n",
            "FREQ_TOP_PACK float64\n",
            "CHURN int64\n"
          ]
        }
      ],
      "source": [
        "for i in df.columns:\n",
        "  print(i,df[i].dtype)\n"
      ]
    },
    {
      "cell_type": "code",
      "execution_count": 16,
      "metadata": {
        "colab": {
          "base_uri": "https://localhost:8080/"
        },
        "id": "ool5oaJdQAbM",
        "outputId": "7b8a42ba-16f5-4498-8f97-99a0b49b2b2a"
      },
      "outputs": [
        {
          "name": "stderr",
          "output_type": "stream",
          "text": [
            "C:\\Users\\AUVIGHA TECH\\AppData\\Local\\Temp\\ipykernel_12736\\340230691.py:3: SettingWithCopyWarning: \n",
            "A value is trying to be set on a copy of a slice from a DataFrame.\n",
            "Try using .loc[row_indexer,col_indexer] = value instead\n",
            "\n",
            "See the caveats in the documentation: https://pandas.pydata.org/pandas-docs/stable/user_guide/indexing.html#returning-a-view-versus-a-copy\n",
            "  df['REGION'] = Region.fit_transform(df['REGION'])\n",
            "C:\\Users\\AUVIGHA TECH\\AppData\\Local\\Temp\\ipykernel_12736\\340230691.py:7: SettingWithCopyWarning: \n",
            "A value is trying to be set on a copy of a slice from a DataFrame.\n",
            "Try using .loc[row_indexer,col_indexer] = value instead\n",
            "\n",
            "See the caveats in the documentation: https://pandas.pydata.org/pandas-docs/stable/user_guide/indexing.html#returning-a-view-versus-a-copy\n",
            "  df['TENURE'] = tenure.fit_transform(df['TENURE'])\n",
            "C:\\Users\\AUVIGHA TECH\\AppData\\Local\\Temp\\ipykernel_12736\\340230691.py:11: SettingWithCopyWarning: \n",
            "A value is trying to be set on a copy of a slice from a DataFrame.\n",
            "Try using .loc[row_indexer,col_indexer] = value instead\n",
            "\n",
            "See the caveats in the documentation: https://pandas.pydata.org/pandas-docs/stable/user_guide/indexing.html#returning-a-view-versus-a-copy\n",
            "  df['TOP_PACK'] = top.fit_transform(df['TOP_PACK'])\n"
          ]
        },
        {
          "data": {
            "text/plain": [
              "array([43, 14, 40, 37,  7, 48, 10, 34, 31, 11, 22, 54, 13, 44, 29, 51, 47,\n",
              "        5, 56, 18, 45,  8,  2, 57, 19,  1, 55, 35, 27, 59, 17, 23, 39, 41,\n",
              "       15, 49,  3, 20, 33, 28,  6, 36, 42,  0, 58, 53, 26, 12, 25, 21, 24,\n",
              "       38, 46,  4,  9, 50, 32, 16, 30, 52])"
            ]
          },
          "execution_count": 16,
          "metadata": {},
          "output_type": "execute_result"
        }
      ],
      "source": [
        "from sklearn.preprocessing import LabelEncoder\n",
        "Region = LabelEncoder()\n",
        "df['REGION'] = Region.fit_transform(df['REGION'])\n",
        "df[\"REGION\"].unique()\n",
        "from sklearn.preprocessing import LabelEncoder\n",
        "tenure = LabelEncoder()\n",
        "df['TENURE'] = tenure.fit_transform(df['TENURE'])\n",
        "df[\"TENURE\"].unique()\n",
        "from sklearn.preprocessing import LabelEncoder\n",
        "top = LabelEncoder()\n",
        "df['TOP_PACK'] = top.fit_transform(df['TOP_PACK'])\n",
        "df[\"TOP_PACK\"].unique()"
      ]
    },
    {
      "cell_type": "code",
      "execution_count": 17,
      "metadata": {
        "id": "Oo1bgttWZBGB"
      },
      "outputs": [],
      "source": [
        "df.to_csv('beforestandarization.csv')"
      ]
    },
    {
      "cell_type": "code",
      "execution_count": 18,
      "metadata": {
        "id": "GLBTfulpbEtj"
      },
      "outputs": [],
      "source": [
        "df=pd.read_csv('beforestandarization.csv')"
      ]
    },
    {
      "cell_type": "code",
      "execution_count": 19,
      "metadata": {
        "id": "wxpmTx3jZb6Z"
      },
      "outputs": [],
      "source": [
        "X = df.drop(['CHURN','Unnamed: 0'], axis=1)\n",
        "y = df.CHURN"
      ]
    },
    {
      "cell_type": "code",
      "execution_count": 20,
      "metadata": {
        "colab": {
          "base_uri": "https://localhost:8080/",
          "height": 226
        },
        "id": "r8qBS8V7bsaA",
        "outputId": "d3e1b5e2-2357-4e3b-c002-ee5126d7b53d"
      },
      "outputs": [
        {
          "data": {
            "text/html": [
              "<div>\n",
              "<style scoped>\n",
              "    .dataframe tbody tr th:only-of-type {\n",
              "        vertical-align: middle;\n",
              "    }\n",
              "\n",
              "    .dataframe tbody tr th {\n",
              "        vertical-align: top;\n",
              "    }\n",
              "\n",
              "    .dataframe thead th {\n",
              "        text-align: right;\n",
              "    }\n",
              "</style>\n",
              "<table border=\"1\" class=\"dataframe\">\n",
              "  <thead>\n",
              "    <tr style=\"text-align: right;\">\n",
              "      <th></th>\n",
              "      <th>REGION</th>\n",
              "      <th>TENURE</th>\n",
              "      <th>MONTANT</th>\n",
              "      <th>FREQUENCE_RECH</th>\n",
              "      <th>REVENUE</th>\n",
              "      <th>ARPU_SEGMENT</th>\n",
              "      <th>FREQUENCE</th>\n",
              "      <th>DATA_VOLUME</th>\n",
              "      <th>ON_NET</th>\n",
              "      <th>ORANGE</th>\n",
              "      <th>TIGO</th>\n",
              "      <th>REGULARITY</th>\n",
              "      <th>TOP_PACK</th>\n",
              "      <th>FREQ_TOP_PACK</th>\n",
              "    </tr>\n",
              "  </thead>\n",
              "  <tbody>\n",
              "    <tr>\n",
              "      <th>0</th>\n",
              "      <td>2</td>\n",
              "      <td>7</td>\n",
              "      <td>4250.0</td>\n",
              "      <td>15.0</td>\n",
              "      <td>4251.0</td>\n",
              "      <td>1417.0</td>\n",
              "      <td>17.0</td>\n",
              "      <td>4.0</td>\n",
              "      <td>388.0</td>\n",
              "      <td>46.0</td>\n",
              "      <td>1.0</td>\n",
              "      <td>54</td>\n",
              "      <td>43</td>\n",
              "      <td>8.0</td>\n",
              "    </tr>\n",
              "    <tr>\n",
              "      <th>1</th>\n",
              "      <td>0</td>\n",
              "      <td>7</td>\n",
              "      <td>13500.0</td>\n",
              "      <td>15.0</td>\n",
              "      <td>13502.0</td>\n",
              "      <td>4501.0</td>\n",
              "      <td>18.0</td>\n",
              "      <td>43804.0</td>\n",
              "      <td>41.0</td>\n",
              "      <td>102.0</td>\n",
              "      <td>2.0</td>\n",
              "      <td>62</td>\n",
              "      <td>14</td>\n",
              "      <td>11.0</td>\n",
              "    </tr>\n",
              "    <tr>\n",
              "      <th>2</th>\n",
              "      <td>0</td>\n",
              "      <td>7</td>\n",
              "      <td>1000.0</td>\n",
              "      <td>1.0</td>\n",
              "      <td>985.0</td>\n",
              "      <td>328.0</td>\n",
              "      <td>1.0</td>\n",
              "      <td>0.0</td>\n",
              "      <td>39.0</td>\n",
              "      <td>24.0</td>\n",
              "      <td>1.0</td>\n",
              "      <td>11</td>\n",
              "      <td>40</td>\n",
              "      <td>2.0</td>\n",
              "    </tr>\n",
              "    <tr>\n",
              "      <th>3</th>\n",
              "      <td>7</td>\n",
              "      <td>7</td>\n",
              "      <td>8500.0</td>\n",
              "      <td>17.0</td>\n",
              "      <td>9000.0</td>\n",
              "      <td>3000.0</td>\n",
              "      <td>18.0</td>\n",
              "      <td>0.0</td>\n",
              "      <td>252.0</td>\n",
              "      <td>70.0</td>\n",
              "      <td>91.0</td>\n",
              "      <td>62</td>\n",
              "      <td>37</td>\n",
              "      <td>18.0</td>\n",
              "    </tr>\n",
              "    <tr>\n",
              "      <th>4</th>\n",
              "      <td>0</td>\n",
              "      <td>7</td>\n",
              "      <td>7000.0</td>\n",
              "      <td>16.0</td>\n",
              "      <td>7229.0</td>\n",
              "      <td>2410.0</td>\n",
              "      <td>22.0</td>\n",
              "      <td>1601.0</td>\n",
              "      <td>77.0</td>\n",
              "      <td>29.0</td>\n",
              "      <td>100.0</td>\n",
              "      <td>55</td>\n",
              "      <td>7</td>\n",
              "      <td>8.0</td>\n",
              "    </tr>\n",
              "  </tbody>\n",
              "</table>\n",
              "</div>"
            ],
            "text/plain": [
              "   REGION  TENURE  MONTANT  FREQUENCE_RECH  REVENUE  ARPU_SEGMENT  FREQUENCE  \\\n",
              "0       2       7   4250.0            15.0   4251.0        1417.0       17.0   \n",
              "1       0       7  13500.0            15.0  13502.0        4501.0       18.0   \n",
              "2       0       7   1000.0             1.0    985.0         328.0        1.0   \n",
              "3       7       7   8500.0            17.0   9000.0        3000.0       18.0   \n",
              "4       0       7   7000.0            16.0   7229.0        2410.0       22.0   \n",
              "\n",
              "   DATA_VOLUME  ON_NET  ORANGE   TIGO  REGULARITY  TOP_PACK  FREQ_TOP_PACK  \n",
              "0          4.0   388.0    46.0    1.0          54        43            8.0  \n",
              "1      43804.0    41.0   102.0    2.0          62        14           11.0  \n",
              "2          0.0    39.0    24.0    1.0          11        40            2.0  \n",
              "3          0.0   252.0    70.0   91.0          62        37           18.0  \n",
              "4       1601.0    77.0    29.0  100.0          55         7            8.0  "
            ]
          },
          "execution_count": 20,
          "metadata": {},
          "output_type": "execute_result"
        }
      ],
      "source": [
        "X.head()"
      ]
    },
    {
      "cell_type": "code",
      "execution_count": 21,
      "metadata": {
        "id": "3TNpUAOIaPeB"
      },
      "outputs": [],
      "source": [
        "from sklearn.model_selection import train_test_split\n",
        "X_train, X_test, y_train, y_test = train_test_split(X,y,test_size=.1, random_state=1234)\n"
      ]
    },
    {
      "cell_type": "code",
      "execution_count": 22,
      "metadata": {
        "colab": {
          "base_uri": "https://localhost:8080/"
        },
        "id": "Hqm_VqjCcbHL",
        "outputId": "b58ee13f-90d0-480f-f84b-a30a60db91b7"
      },
      "outputs": [
        {
          "name": "stdout",
          "output_type": "stream",
          "text": [
            "Accuracy: 0.9870977413551869\n"
          ]
        }
      ],
      "source": [
        "from sklearn.tree import DecisionTreeClassifier\n",
        "from sklearn.metrics import accuracy_score\n",
        "\n",
        "# Initialize the Decision Tree Classifier\n",
        "clf = DecisionTreeClassifier(random_state=42)\n",
        "\n",
        "# Fit the classifier to the training data\n",
        "clf.fit(X_train, y_train)\n",
        "\n",
        "# Predict the labels for the test set\n",
        "y_pred = clf.predict(X_test)\n",
        "\n",
        "# Calculate the accuracy of the classifier\n",
        "accuracy = accuracy_score(y_test, y_pred)\n",
        "print(\"Accuracy:\", accuracy)\n"
      ]
    },
    {
      "cell_type": "code",
      "execution_count": 23,
      "metadata": {
        "colab": {
          "base_uri": "https://localhost:8080/",
          "height": 132
        },
        "id": "fx-saKxvcwW_",
        "outputId": "ce1dc7ba-9124-4c59-c995-6ed51193f396"
      },
      "outputs": [
        {
          "data": {
            "text/html": [
              "<div>\n",
              "<style scoped>\n",
              "    .dataframe tbody tr th:only-of-type {\n",
              "        vertical-align: middle;\n",
              "    }\n",
              "\n",
              "    .dataframe tbody tr th {\n",
              "        vertical-align: top;\n",
              "    }\n",
              "\n",
              "    .dataframe thead th {\n",
              "        text-align: right;\n",
              "    }\n",
              "</style>\n",
              "<table border=\"1\" class=\"dataframe\">\n",
              "  <thead>\n",
              "    <tr style=\"text-align: right;\">\n",
              "      <th></th>\n",
              "      <th>REGION</th>\n",
              "      <th>TENURE</th>\n",
              "      <th>MONTANT</th>\n",
              "      <th>FREQUENCE_RECH</th>\n",
              "      <th>REVENUE</th>\n",
              "      <th>ARPU_SEGMENT</th>\n",
              "      <th>FREQUENCE</th>\n",
              "      <th>DATA_VOLUME</th>\n",
              "      <th>ON_NET</th>\n",
              "      <th>ORANGE</th>\n",
              "      <th>TIGO</th>\n",
              "      <th>REGULARITY</th>\n",
              "      <th>TOP_PACK</th>\n",
              "      <th>FREQ_TOP_PACK</th>\n",
              "    </tr>\n",
              "  </thead>\n",
              "  <tbody>\n",
              "    <tr>\n",
              "      <th>705888</th>\n",
              "      <td>11</td>\n",
              "      <td>7</td>\n",
              "      <td>81464.0</td>\n",
              "      <td>19.0</td>\n",
              "      <td>10426.0</td>\n",
              "      <td>3475.0</td>\n",
              "      <td>40.0</td>\n",
              "      <td>0.0</td>\n",
              "      <td>841.0</td>\n",
              "      <td>830.0</td>\n",
              "      <td>7.0</td>\n",
              "      <td>62</td>\n",
              "      <td>37</td>\n",
              "      <td>8.0</td>\n",
              "    </tr>\n",
              "    <tr>\n",
              "      <th>69624</th>\n",
              "      <td>2</td>\n",
              "      <td>7</td>\n",
              "      <td>24500.0</td>\n",
              "      <td>40.0</td>\n",
              "      <td>25500.0</td>\n",
              "      <td>8500.0</td>\n",
              "      <td>42.0</td>\n",
              "      <td>0.0</td>\n",
              "      <td>157.0</td>\n",
              "      <td>427.0</td>\n",
              "      <td>97.0</td>\n",
              "      <td>62</td>\n",
              "      <td>7</td>\n",
              "      <td>51.0</td>\n",
              "    </tr>\n",
              "  </tbody>\n",
              "</table>\n",
              "</div>"
            ],
            "text/plain": [
              "        REGION  TENURE  MONTANT  FREQUENCE_RECH  REVENUE  ARPU_SEGMENT  \\\n",
              "705888      11       7  81464.0            19.0  10426.0        3475.0   \n",
              "69624        2       7  24500.0            40.0  25500.0        8500.0   \n",
              "\n",
              "        FREQUENCE  DATA_VOLUME  ON_NET  ORANGE  TIGO  REGULARITY  TOP_PACK  \\\n",
              "705888       40.0          0.0   841.0   830.0   7.0          62        37   \n",
              "69624        42.0          0.0   157.0   427.0  97.0          62         7   \n",
              "\n",
              "        FREQ_TOP_PACK  \n",
              "705888            8.0  \n",
              "69624            51.0  "
            ]
          },
          "execution_count": 23,
          "metadata": {},
          "output_type": "execute_result"
        }
      ],
      "source": [
        "X_train[:2]"
      ]
    },
    {
      "cell_type": "code",
      "execution_count": 24,
      "metadata": {
        "colab": {
          "base_uri": "https://localhost:8080/"
        },
        "id": "p6AqwoykdA1E",
        "outputId": "fc24b5f3-81a7-4cc4-bc8b-fe4f5acc84b6"
      },
      "outputs": [
        {
          "name": "stdout",
          "output_type": "stream",
          "text": [
            "[['DAKAR' 'K > 24 month' '14950.0' '44.0' '15150.0' '5050.0' '52.0' '0.0'\n",
            "  '141.0' '316.0' '151.0' '59.0' 'All-net 500F=2000F;5d' '23.0']]\n"
          ]
        }
      ],
      "source": [
        "import numpy as np\n",
        "data = [\n",
        "    ['DAKAR', 'K > 24 month', 14950.0, 44.0, 15150.0, 5050.0, 52.0, 0.0, 141.0, 316.0, 151.0, 59.0, 'All-net 500F=2000F;5d', 23.0]\n",
        "]\n",
        "\n",
        "data_np = np.array(data)\n",
        "\n",
        "print(data_np)"
      ]
    },
    {
      "cell_type": "code",
      "execution_count": 25,
      "metadata": {
        "colab": {
          "base_uri": "https://localhost:8080/"
        },
        "id": "yuemAOv5fZPm",
        "outputId": "3e48d1a6-251c-4589-90b5-9967f1f40169"
      },
      "outputs": [
        {
          "data": {
            "text/plain": [
              "array([['0', '7', '14950.0', '44.0', '15150.0', '5050.0', '52.0', '0.0',\n",
              "        '141.0', '316.0', '151.0', '59.0', '7', '23.0']], dtype='<U32')"
            ]
          },
          "execution_count": 25,
          "metadata": {},
          "output_type": "execute_result"
        }
      ],
      "source": [
        "data_np[:, 0] = Region.transform(data_np[:,0])\n",
        "data_np[:, 1] = tenure.transform(data_np[:,1])\n",
        "data_np[:, -2] = top.transform(data_np[:,-2])\n",
        "\n",
        "data_np"
      ]
    },
    {
      "cell_type": "code",
      "execution_count": 26,
      "metadata": {
        "colab": {
          "base_uri": "https://localhost:8080/"
        },
        "id": "biYiNxWFjMhf",
        "outputId": "195f1b3f-4471-4a49-a2df-3da58f846d64"
      },
      "outputs": [
        {
          "data": {
            "text/plain": [
              "array([[0.000e+00, 7.000e+00, 1.495e+04, 4.400e+01, 1.515e+04, 5.050e+03,\n",
              "        5.200e+01, 0.000e+00, 1.410e+02, 3.160e+02, 1.510e+02, 5.900e+01,\n",
              "        7.000e+00, 2.300e+01]])"
            ]
          },
          "execution_count": 26,
          "metadata": {},
          "output_type": "execute_result"
        }
      ],
      "source": [
        "data_np=data_np.astype(float)\n",
        "data_np"
      ]
    },
    {
      "cell_type": "code",
      "execution_count": 27,
      "metadata": {
        "colab": {
          "base_uri": "https://localhost:8080/"
        },
        "id": "u-Kv58nMjTfh",
        "outputId": "7d34fffa-0b54-4991-cc43-fed6bc85c9f7"
      },
      "outputs": [
        {
          "name": "stderr",
          "output_type": "stream",
          "text": [
            "c:\\Users\\AUVIGHA TECH\\AppData\\Local\\Programs\\Python\\Python312\\Lib\\site-packages\\sklearn\\base.py:465: UserWarning: X does not have valid feature names, but DecisionTreeClassifier was fitted with feature names\n",
            "  warnings.warn(\n"
          ]
        },
        {
          "data": {
            "text/plain": [
              "array([0], dtype=int64)"
            ]
          },
          "execution_count": 27,
          "metadata": {},
          "output_type": "execute_result"
        }
      ],
      "source": [
        "data_pred = clf.predict(data_np)\n",
        "data_pred"
      ]
    },
    {
      "cell_type": "code",
      "execution_count": 28,
      "metadata": {
        "id": "n9Uw3-XOjiZr"
      },
      "outputs": [],
      "source": [
        "import pickle\n"
      ]
    },
    {
      "cell_type": "code",
      "execution_count": 32,
      "metadata": {
        "id": "68BcK3SUjjgu"
      },
      "outputs": [],
      "source": [
        "data = {\"model\": clf, \"region\": Region, \"tenure\": tenure,'top':top}\n",
        "with open('churn.pkl', 'wb') as file:\n",
        "    pickle.dump(data, file)"
      ]
    },
    {
      "cell_type": "code",
      "execution_count": 33,
      "metadata": {
        "id": "Mf5IImFjkA8v"
      },
      "outputs": [],
      "source": [
        "with open('churn.pkl', 'rb') as file:\n",
        "    data = pickle.load(file)\n",
        "\n",
        "regressor_loaded = data[\"model\"]\n",
        "Region = data[\"region\"]\n",
        "top = data[\"top\"]"
      ]
    },
    {
      "cell_type": "code",
      "execution_count": 31,
      "metadata": {
        "colab": {
          "base_uri": "https://localhost:8080/"
        },
        "id": "biEExHpGks3U",
        "outputId": "f0c57b64-eec0-4bbc-f181-35a3408ce625"
      },
      "outputs": [
        {
          "name": "stderr",
          "output_type": "stream",
          "text": [
            "c:\\Users\\AUVIGHA TECH\\AppData\\Local\\Programs\\Python\\Python312\\Lib\\site-packages\\sklearn\\base.py:465: UserWarning: X does not have valid feature names, but DecisionTreeClassifier was fitted with feature names\n",
            "  warnings.warn(\n"
          ]
        },
        {
          "data": {
            "text/plain": [
              "array([0], dtype=int64)"
            ]
          },
          "execution_count": 31,
          "metadata": {},
          "output_type": "execute_result"
        }
      ],
      "source": [
        "y_pred = regressor_loaded.predict(data_np)\n",
        "y_pred"
      ]
    }
  ],
  "metadata": {
    "accelerator": "TPU",
    "colab": {
      "gpuType": "V28",
      "provenance": []
    },
    "kernelspec": {
      "display_name": "Python 3",
      "name": "python3"
    },
    "language_info": {
      "codemirror_mode": {
        "name": "ipython",
        "version": 3
      },
      "file_extension": ".py",
      "mimetype": "text/x-python",
      "name": "python",
      "nbconvert_exporter": "python",
      "pygments_lexer": "ipython3",
      "version": "3.12.1"
    }
  },
  "nbformat": 4,
  "nbformat_minor": 0
}
